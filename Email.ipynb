{
 "cells": [
  {
   "cell_type": "code",
   "execution_count": null,
   "metadata": {},
   "outputs": [],
   "source": [
    "import win32com.client"
   ]
  },
  {
   "cell_type": "code",
   "execution_count": null,
   "metadata": {
    "scrolled": true
   },
   "outputs": [],
   "source": [
    "\n",
    "\n",
    "outlook = win32com.client.Dispatch(\"Outlook.Application\").GetNamespace(\"MAPI\")\n",
    "inbox = outlook.GetDefaultFolder(6)\n",
    "messages = inbox.Items\n",
    "'''message = messages.GetLast()\n",
    "body_content = message.Body\n",
    "subject = message.Subject\n",
    "categories = message.Categories\n",
    "print(body_content)\n",
    "print(subject)\n",
    "print(categories)'''\n",
    "\n",
    "message=messages.GetLast()\n",
    "print(message.Body)\n",
    "\n",
    "\n",
    "'''\n",
    "for message in messages:\n",
    "    print(message.Subject)\n",
    "    print(message.Body)\n",
    "'''"
   ]
  },
  {
   "cell_type": "code",
   "execution_count": null,
   "metadata": {},
   "outputs": [],
   "source": [
    "#example 2 to access specific folder\n",
    "olFolderInbox = 6\n",
    "outlook = win32com.client.Dispatch(\"Outlook.Application\")\n",
    "mapi = outlook.GetNamespace('MAPI')\n",
    "inbox =  mapi.GetDefaultFolder(olFolderInbox) # = 6\n",
    "\n",
    "test_folder = inbox.Folders(\"ImportSch\")\n",
    "\n",
    "\n",
    "messages = test_folder.Items\n",
    "\n",
    "message=messages.GetLast()    \n",
    "\n",
    "print(message.subject)\n",
    "print(message.body)\n",
    "\n",
    "\n",
    "#for message in messages:\n",
    " #   print(message.Subject)\n",
    "#    print(message.Body)"
   ]
  },
  {
   "cell_type": "code",
   "execution_count": null,
   "metadata": {},
   "outputs": [],
   "source": []
  },
  {
   "cell_type": "code",
   "execution_count": null,
   "metadata": {},
   "outputs": [],
   "source": [
    "olMailItem = 0\n",
    "item = outlook.CreateItem(olMailItem)\n",
    "item.Subject = \"haha\"\n",
    "item.Move(test_folder)"
   ]
  },
  {
   "cell_type": "code",
   "execution_count": null,
   "metadata": {},
   "outputs": [],
   "source": [
    "import urllib2\n",
    "response = urllib2.urlopen('http://www.example.com/')\n",
    "html = response.read()"
   ]
  },
  {
   "cell_type": "code",
   "execution_count": null,
   "metadata": {},
   "outputs": [],
   "source": []
  },
  {
   "cell_type": "code",
   "execution_count": null,
   "metadata": {},
   "outputs": [],
   "source": []
  },
  {
   "cell_type": "code",
   "execution_count": null,
   "metadata": {},
   "outputs": [],
   "source": []
  },
  {
   "cell_type": "code",
   "execution_count": null,
   "metadata": {},
   "outputs": [],
   "source": [
    "import pandas as pd\n",
    "from pandas import ExcelWriter\n",
    "from pandas import ExcelFile\n",
    " \n",
    "df = pd.read_excel('email.xlsx', sheet_name='Sheet1')"
   ]
  },
  {
   "cell_type": "code",
   "execution_count": null,
   "metadata": {},
   "outputs": [],
   "source": [
    "df.columns"
   ]
  },
  {
   "cell_type": "code",
   "execution_count": null,
   "metadata": {},
   "outputs": [],
   "source": [
    "for i,row in df.iterrows():\n",
    "    print(row['Sales Document'], row['Item (SD)'])"
   ]
  },
  {
   "cell_type": "markdown",
   "metadata": {},
   "source": [
    "# Email succeed in Festo server"
   ]
  },
  {
   "cell_type": "code",
   "execution_count": null,
   "metadata": {},
   "outputs": [],
   "source": [
    "import smtplib\n",
    "from getpass import getpass\n",
    "from email.mime.text import MIMEText"
   ]
  },
  {
   "cell_type": "code",
   "execution_count": null,
   "metadata": {},
   "outputs": [],
   "source": [
    "sender = 'kr6u0102@festo.net'\n",
    "receiver = 'kr6u0102@festo.net'\n",
    "content = \"\"\"\n",
    "\n",
    "The receiver will see this message. \n",
    "I am so happy to see this first email\n",
    "Best regards\n",
    "\n",
    "\n",
    "\"\"\"\n",
    "\n",
    "msg = MIMEText(content)\n",
    "msg['From'] = sender\n",
    "msg['To'] = receiver\n",
    "msg['Subject'] = 'Simple app script'"
   ]
  },
  {
   "cell_type": "code",
   "execution_count": null,
   "metadata": {},
   "outputs": [],
   "source": [
    "smtp_server_name = 'smtp.office365.com'\n",
    "#port = '465' # for secure messages\n",
    "port = '587' # for normal messages"
   ]
  },
  {
   "cell_type": "code",
   "execution_count": null,
   "metadata": {
    "scrolled": true
   },
   "outputs": [],
   "source": [
    "if port == '465':\n",
    "    server = smtplib.SMTP_SSL('{}:{}'.format(smtp_server_name, port))\n",
    "else :\n",
    "    server = smtplib.SMTP('{}:{}'.format(smtp_server_name, port))\n",
    "    server.starttls() # this is for secure reason\n",
    "\n",
    "server.login(sender, getpass(prompt=\"Email Password: \"))\n"
   ]
  },
  {
   "cell_type": "code",
   "execution_count": null,
   "metadata": {},
   "outputs": [],
   "source": [
    "for i in range(10) : \n",
    "    \n",
    "    content = \"Happy \" + str(i)        \n",
    "    msg = MIMEText(content)\n",
    "    msg['From'] = sender\n",
    "    msg['To'] = receiver\n",
    "    msg['Subject'] =  \"Test \" + str(i)           \n",
    "    server.send_message(msg)"
   ]
  },
  {
   "cell_type": "code",
   "execution_count": null,
   "metadata": {},
   "outputs": [],
   "source": [
    "server.send_message(msg)\n"
   ]
  },
  {
   "cell_type": "code",
   "execution_count": null,
   "metadata": {},
   "outputs": [],
   "source": [
    "server.quit()"
   ]
  },
  {
   "cell_type": "code",
   "execution_count": null,
   "metadata": {},
   "outputs": [],
   "source": []
  }
 ],
 "metadata": {
  "kernelspec": {
   "display_name": "Python 3",
   "language": "python",
   "name": "python3"
  },
  "language_info": {
   "codemirror_mode": {
    "name": "ipython",
    "version": 3
   },
   "file_extension": ".py",
   "mimetype": "text/x-python",
   "name": "python",
   "nbconvert_exporter": "python",
   "pygments_lexer": "ipython3",
   "version": "3.6.4"
  }
 },
 "nbformat": 4,
 "nbformat_minor": 2
}
